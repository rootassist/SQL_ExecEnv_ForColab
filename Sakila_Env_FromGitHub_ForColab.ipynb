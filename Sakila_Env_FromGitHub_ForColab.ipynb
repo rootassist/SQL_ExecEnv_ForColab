{
 "cells": [
  {
   "cell_type": "markdown",
   "metadata": {},
   "source": [
    "[![Open In Colab](https://colab.research.google.com/assets/colab-badge.svg)](http://colab.research.google.com/github/rootassist/SQL_ExecEnv_ForColab/blob/main/Sakila_Env_FromGitHub_ForColab.ipynb)"
   ]
  },
  {
   "cell_type": "code",
   "execution_count": null,
   "metadata": {},
   "outputs": [],
   "source": [
    "\n",
    "#環境構築用のセル\n",
    "\n",
    "#MySQL Install and Server Start\n",
    "!sudo pip -q install PyMySQL\n",
    "!sudo apt update\n",
    "!sudo apt-get -y -qq update\n",
    "!sudo apt-get -y -qq install mysql-server mysql-client\n",
    "!sudo mysql --version\n",
    "!sudo service mysql start\n",
    "!sudo service mysql status\n",
    "!sudo mysql -e \"ALTER USER 'root'@'localhost' IDENTIFIED WITH mysql_native_password BY 'root'\"\n",
    "\n",
    "#Prepare database 'Sakila'\n",
    "!sudo mkdir /tmp/data\n",
    "!sudo wget -O /tmp/data/sakila-db.zip http://downloads.mysql.com/docs/sakila-db.zip\n",
    "!sudo unzip -d /tmp/data /tmp/data/sakila-db.zip\n",
    "!sudo chmod -R 777 /tmp/data\n",
    "!sudo mysql -u root -proot -e \"create database sakila;\"\n",
    "\n",
    "sql_names = ('sakila-schema.sql', 'sakila-data.sql')\n",
    "sql_dir = \"/tmp/data/sakila-db/\"\n",
    "for sql_name in sql_names:\n",
    "   SQLCMD=\"source \"+sql_dir+sql_name+\";\"\n",
    "   !sudo mysql -u root -proot -e \" $SQLCMD\""
   ]
  },
  {
   "cell_type": "code",
   "execution_count": null,
   "metadata": {},
   "outputs": [],
   "source": [
    "%load_ext sql\n",
    "%config SqlMagic.autopandas=True\n",
    "%sql mysql+pymysql://root:root@/sakila"
   ]
  },
  {
   "cell_type": "code",
   "execution_count": null,
   "metadata": {},
   "outputs": [],
   "source": [
    "%%sql \n",
    "SELECT Host, User, authentication_string FROM mysql.user;"
   ]
  },
  {
   "cell_type": "code",
   "execution_count": null,
   "metadata": {},
   "outputs": [],
   "source": [
    "#SQL実行テスト\n",
    "%%sql\n",
    "select * from actor limit 10;"
   ]
  },
  {
   "cell_type": "code",
   "execution_count": null,
   "metadata": {},
   "outputs": [],
   "source": [
    "%%sql\n"
   ]
  }
 ],
 "metadata": {
  "kernelspec": {
   "display_name": "Python 3.10.4 64-bit",
   "language": "python",
   "name": "python3"
  },
  "language_info": {
   "name": "python",
   "version": "3.10.4"
  },
  "orig_nbformat": 4,
  "vscode": {
   "interpreter": {
    "hash": "369f2c481f4da34e4445cda3fffd2e751bd1c4d706f27375911949ba6bb62e1c"
   }
  }
 },
 "nbformat": 4,
 "nbformat_minor": 2
}
